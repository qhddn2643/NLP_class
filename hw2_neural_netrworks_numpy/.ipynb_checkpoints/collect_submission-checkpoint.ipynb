{
 "cells": [
  {
   "cell_type": "code",
   "execution_count": 3,
   "metadata": {},
   "outputs": [],
   "source": [
    "COLAB = "
   ]
  },
  {
   "cell_type": "code",
   "execution_count": null,
   "metadata": {},
   "outputs": [],
   "source": [
    "if COLAB:\n",
    "\n",
    "    from google.colab import drive\n",
    "\n",
    "    drive.mount('/content/drive', force_remount=True)\n",
    "\n",
    "    # Enter the path in your Drive of the assignment.\n",
    "    # e.g. 'cs231n/assignments/assignment1/'\n",
    "    FOLDERNAME = None\n",
    "\n",
    "    assert FOLDERNAME is not None, \"[!] Enter the foldername.\""
   ]
  },
  {
   "cell_type": "markdown",
   "metadata": {},
   "source": [
    "# Collect Submission - Zip + Generate PDF \n",
    "\n",
    "Run this notebook once you have completed all the other notebooks: `knn.ipynb`, `svm.ipynb`, `softmax.ipynb`, `two_layer_net.ipynb` and `features.ipynb`).\n",
    "\n",
    "It will:\n",
    "\n",
    "* Generate a zip file of your code (`.py` and `.ipynb`) called `a1.zip`.\n",
    "* Convert all notebooks into a single PDF file called `assignment.pdf`.\n",
    "\n",
    "If your submission for this step was successful, you should see the following display message:\n",
    "\n",
    "`### Done! Please submit a1.zip and the pdfs to Gradescope. ###`\n",
    "\n",
    "If you are working in Colab, make sure to download the zip and pdf file locally to your computer.\n",
    "\n",
    "Submit the files to the Blackboard. Congrats on succesfully completing the assignment!\n",
    "\n",
    "\n",
    "**If the script fails (likely, if not working in Colab or linux):** just compress the whole homework directory (zip, tar.gz) and submit it to the Blackboard."
   ]
  },
  {
   "cell_type": "code",
   "execution_count": 8,
   "metadata": {},
   "outputs": [
    {
     "name": "stdout",
     "output_type": "stream",
     "text": [
      "Execute this in command line while being in this directory:\n",
      "\n",
      "        sudo apt-get install texlive-xetex texlive-fonts-recommended texlive-generic-recommended\n",
      "\n",
      "        pip install PyPDF2\n",
      "        bash collectSubmission.sh\n",
      "    \n"
     ]
    }
   ],
   "source": [
    "if COLAB:\n",
    "    %cd drive/My\\ Drive\n",
    "    %cd $FOLDERNAME\n",
    "\n",
    "    !sudo apt-get install texlive-xetex texlive-fonts-recommended texlive-generic-recommended\n",
    "\n",
    "    !pip install PyPDF2\n",
    "    !bash collectSubmission.sh\n",
    "\n",
    "else:\n",
    "    print(\"Execute this in command line while being in this directory:\")\n",
    "    print(\"\"\"\n",
    "        sudo apt-get install texlive-xetex texlive-fonts-recommended texlive-generic-recommended\n",
    "\n",
    "        pip install PyPDF2\n",
    "        bash collectSubmission.sh\n",
    "    \"\"\")"
   ]
  },
  {
   "cell_type": "code",
   "execution_count": null,
   "metadata": {},
   "outputs": [],
   "source": []
  }
 ],
 "metadata": {
  "kernelspec": {
   "display_name": "Python 3 (ipykernel)",
   "language": "python",
   "name": "python3"
  },
  "language_info": {
   "codemirror_mode": {
    "name": "ipython",
    "version": 3
   },
   "file_extension": ".py",
   "mimetype": "text/x-python",
   "name": "python",
   "nbconvert_exporter": "python",
   "pygments_lexer": "ipython3",
   "version": "3.8.12"
  }
 },
 "nbformat": 4,
 "nbformat_minor": 4
}
